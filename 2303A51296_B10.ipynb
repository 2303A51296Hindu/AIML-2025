{
  "nbformat": 4,
  "nbformat_minor": 0,
  "metadata": {
    "colab": {
      "provenance": [],
      "authorship_tag": "ABX9TyOjz9h3G4UhD8mu5jy5QPsR",
      "include_colab_link": true
    },
    "kernelspec": {
      "name": "python3",
      "display_name": "Python 3"
    },
    "language_info": {
      "name": "python"
    }
  },
  "cells": [
    {
      "cell_type": "markdown",
      "metadata": {
        "id": "view-in-github",
        "colab_type": "text"
      },
      "source": [
        "<a href=\"https://colab.research.google.com/github/2303A51296Hindu/AIML-2025/blob/main/2303A51296_B10.ipynb\" target=\"_parent\"><img src=\"https://colab.research.google.com/assets/colab-badge.svg\" alt=\"Open In Colab\"/></a>"
      ]
    },
    {
      "cell_type": "markdown",
      "source": [
        "**Predection of recipe reviews and feedback**\n",
        "1. identify the recipe most appreciated?\n",
        "2. list the top 5 recipe prepared the most?\n",
        "2. identify the recipe with the most users delight?\n",
        "4. name the recipe with the most users delight?\n",
        "5. most ordered recipies among the 100 recipes among the 100 recipes list?"
      ],
      "metadata": {
        "id": "0Guqnd-a26pg"
      }
    },
    {
      "cell_type": "code",
      "source": [
        "import pandas as pd\n",
        "import matplotlib.pyplot as plt\n"
      ],
      "metadata": {
        "id": "bxQNq5lI4wF2"
      },
      "execution_count": 22,
      "outputs": []
    },
    {
      "cell_type": "code",
      "source": [
        "from google.colab import files\n",
        "uploaded = files.upload()\n",
        "data = pd.read_csv(list(uploaded.keys())[0])\n"
      ],
      "metadata": {
        "colab": {
          "base_uri": "https://localhost:8080/",
          "height": 110
        },
        "id": "3psNFcp-7ueQ",
        "outputId": "15f2918d-7588-4470-c53a-7a8ecb4b9595"
      },
      "execution_count": 23,
      "outputs": [
        {
          "output_type": "display_data",
          "data": {
            "text/plain": [
              "<IPython.core.display.HTML object>"
            ],
            "text/html": [
              "\n",
              "     <input type=\"file\" id=\"files-a9e400e3-cc94-4fbf-8c16-dc3f63fac9b4\" name=\"files[]\" multiple disabled\n",
              "        style=\"border:none\" />\n",
              "     <output id=\"result-a9e400e3-cc94-4fbf-8c16-dc3f63fac9b4\">\n",
              "      Upload widget is only available when the cell has been executed in the\n",
              "      current browser session. Please rerun this cell to enable.\n",
              "      </output>\n",
              "      <script>// Copyright 2017 Google LLC\n",
              "//\n",
              "// Licensed under the Apache License, Version 2.0 (the \"License\");\n",
              "// you may not use this file except in compliance with the License.\n",
              "// You may obtain a copy of the License at\n",
              "//\n",
              "//      http://www.apache.org/licenses/LICENSE-2.0\n",
              "//\n",
              "// Unless required by applicable law or agreed to in writing, software\n",
              "// distributed under the License is distributed on an \"AS IS\" BASIS,\n",
              "// WITHOUT WARRANTIES OR CONDITIONS OF ANY KIND, either express or implied.\n",
              "// See the License for the specific language governing permissions and\n",
              "// limitations under the License.\n",
              "\n",
              "/**\n",
              " * @fileoverview Helpers for google.colab Python module.\n",
              " */\n",
              "(function(scope) {\n",
              "function span(text, styleAttributes = {}) {\n",
              "  const element = document.createElement('span');\n",
              "  element.textContent = text;\n",
              "  for (const key of Object.keys(styleAttributes)) {\n",
              "    element.style[key] = styleAttributes[key];\n",
              "  }\n",
              "  return element;\n",
              "}\n",
              "\n",
              "// Max number of bytes which will be uploaded at a time.\n",
              "const MAX_PAYLOAD_SIZE = 100 * 1024;\n",
              "\n",
              "function _uploadFiles(inputId, outputId) {\n",
              "  const steps = uploadFilesStep(inputId, outputId);\n",
              "  const outputElement = document.getElementById(outputId);\n",
              "  // Cache steps on the outputElement to make it available for the next call\n",
              "  // to uploadFilesContinue from Python.\n",
              "  outputElement.steps = steps;\n",
              "\n",
              "  return _uploadFilesContinue(outputId);\n",
              "}\n",
              "\n",
              "// This is roughly an async generator (not supported in the browser yet),\n",
              "// where there are multiple asynchronous steps and the Python side is going\n",
              "// to poll for completion of each step.\n",
              "// This uses a Promise to block the python side on completion of each step,\n",
              "// then passes the result of the previous step as the input to the next step.\n",
              "function _uploadFilesContinue(outputId) {\n",
              "  const outputElement = document.getElementById(outputId);\n",
              "  const steps = outputElement.steps;\n",
              "\n",
              "  const next = steps.next(outputElement.lastPromiseValue);\n",
              "  return Promise.resolve(next.value.promise).then((value) => {\n",
              "    // Cache the last promise value to make it available to the next\n",
              "    // step of the generator.\n",
              "    outputElement.lastPromiseValue = value;\n",
              "    return next.value.response;\n",
              "  });\n",
              "}\n",
              "\n",
              "/**\n",
              " * Generator function which is called between each async step of the upload\n",
              " * process.\n",
              " * @param {string} inputId Element ID of the input file picker element.\n",
              " * @param {string} outputId Element ID of the output display.\n",
              " * @return {!Iterable<!Object>} Iterable of next steps.\n",
              " */\n",
              "function* uploadFilesStep(inputId, outputId) {\n",
              "  const inputElement = document.getElementById(inputId);\n",
              "  inputElement.disabled = false;\n",
              "\n",
              "  const outputElement = document.getElementById(outputId);\n",
              "  outputElement.innerHTML = '';\n",
              "\n",
              "  const pickedPromise = new Promise((resolve) => {\n",
              "    inputElement.addEventListener('change', (e) => {\n",
              "      resolve(e.target.files);\n",
              "    });\n",
              "  });\n",
              "\n",
              "  const cancel = document.createElement('button');\n",
              "  inputElement.parentElement.appendChild(cancel);\n",
              "  cancel.textContent = 'Cancel upload';\n",
              "  const cancelPromise = new Promise((resolve) => {\n",
              "    cancel.onclick = () => {\n",
              "      resolve(null);\n",
              "    };\n",
              "  });\n",
              "\n",
              "  // Wait for the user to pick the files.\n",
              "  const files = yield {\n",
              "    promise: Promise.race([pickedPromise, cancelPromise]),\n",
              "    response: {\n",
              "      action: 'starting',\n",
              "    }\n",
              "  };\n",
              "\n",
              "  cancel.remove();\n",
              "\n",
              "  // Disable the input element since further picks are not allowed.\n",
              "  inputElement.disabled = true;\n",
              "\n",
              "  if (!files) {\n",
              "    return {\n",
              "      response: {\n",
              "        action: 'complete',\n",
              "      }\n",
              "    };\n",
              "  }\n",
              "\n",
              "  for (const file of files) {\n",
              "    const li = document.createElement('li');\n",
              "    li.append(span(file.name, {fontWeight: 'bold'}));\n",
              "    li.append(span(\n",
              "        `(${file.type || 'n/a'}) - ${file.size} bytes, ` +\n",
              "        `last modified: ${\n",
              "            file.lastModifiedDate ? file.lastModifiedDate.toLocaleDateString() :\n",
              "                                    'n/a'} - `));\n",
              "    const percent = span('0% done');\n",
              "    li.appendChild(percent);\n",
              "\n",
              "    outputElement.appendChild(li);\n",
              "\n",
              "    const fileDataPromise = new Promise((resolve) => {\n",
              "      const reader = new FileReader();\n",
              "      reader.onload = (e) => {\n",
              "        resolve(e.target.result);\n",
              "      };\n",
              "      reader.readAsArrayBuffer(file);\n",
              "    });\n",
              "    // Wait for the data to be ready.\n",
              "    let fileData = yield {\n",
              "      promise: fileDataPromise,\n",
              "      response: {\n",
              "        action: 'continue',\n",
              "      }\n",
              "    };\n",
              "\n",
              "    // Use a chunked sending to avoid message size limits. See b/62115660.\n",
              "    let position = 0;\n",
              "    do {\n",
              "      const length = Math.min(fileData.byteLength - position, MAX_PAYLOAD_SIZE);\n",
              "      const chunk = new Uint8Array(fileData, position, length);\n",
              "      position += length;\n",
              "\n",
              "      const base64 = btoa(String.fromCharCode.apply(null, chunk));\n",
              "      yield {\n",
              "        response: {\n",
              "          action: 'append',\n",
              "          file: file.name,\n",
              "          data: base64,\n",
              "        },\n",
              "      };\n",
              "\n",
              "      let percentDone = fileData.byteLength === 0 ?\n",
              "          100 :\n",
              "          Math.round((position / fileData.byteLength) * 100);\n",
              "      percent.textContent = `${percentDone}% done`;\n",
              "\n",
              "    } while (position < fileData.byteLength);\n",
              "  }\n",
              "\n",
              "  // All done.\n",
              "  yield {\n",
              "    response: {\n",
              "      action: 'complete',\n",
              "    }\n",
              "  };\n",
              "}\n",
              "\n",
              "scope.google = scope.google || {};\n",
              "scope.google.colab = scope.google.colab || {};\n",
              "scope.google.colab._files = {\n",
              "  _uploadFiles,\n",
              "  _uploadFilesContinue,\n",
              "};\n",
              "})(self);\n",
              "</script> "
            ]
          },
          "metadata": {}
        },
        {
          "output_type": "stream",
          "name": "stdout",
          "text": [
            "Saving Recipe Reviews and User Feedback Dataset.csv to Recipe Reviews and User Feedback Dataset.csv\n"
          ]
        }
      ]
    },
    {
      "cell_type": "code",
      "source": [
        "print(\"Dataset Head:\")\n",
        "print(data.head())\n",
        "print(\"\\nDataset Info:\")\n",
        "print(data.info())\n"
      ],
      "metadata": {
        "colab": {
          "base_uri": "https://localhost:8080/"
        },
        "id": "OIK26Eeu8nZA",
        "outputId": "a69b4d46-d80d-41ff-9148-44cacf83f2ee"
      },
      "execution_count": 24,
      "outputs": [
        {
          "output_type": "stream",
          "name": "stdout",
          "text": [
            "Dataset Head:\n",
            "   Unnamed: 0  recipe_number  recipe_code         recipe_name  \\\n",
            "0           0              1        14299  Creamy White Chili   \n",
            "1           1              1        14299  Creamy White Chili   \n",
            "2           2              1        14299  Creamy White Chili   \n",
            "3           3              1        14299  Creamy White Chili   \n",
            "4           4              1        14299  Creamy White Chili   \n",
            "\n",
            "                                        comment_id         user_id  \\\n",
            "0  sp_aUSaElGf_14299_c_2G3aneMRgRMZwXqIHmSdXSG1hEM  u_9iFLIhMa8QaG   \n",
            "1  sp_aUSaElGf_14299_c_2FsPC83HtzCsQAtOxlbL6RcaPbY  u_Lu6p25tmE77j   \n",
            "2  sp_aUSaElGf_14299_c_2FPrSGyTv7PQkZq37j92r9mYGkP  u_s0LwgpZ8Jsqq   \n",
            "3  sp_aUSaElGf_14299_c_2DzdSIgV9qNiuBaLoZ7JQaartoC  u_fqrybAdYjgjG   \n",
            "4  sp_aUSaElGf_14299_c_2DtZJuRQYeTFwXBoZRfRhBPEXjI  u_XXWKwVhKZD69   \n",
            "\n",
            "    user_name  user_reputation  created_at  reply_count  thumbs_up  \\\n",
            "0     Jeri326                1  1665619889            0          0   \n",
            "1     Mark467               50  1665277687            0          7   \n",
            "2  Barbara566               10  1664404557            0          3   \n",
            "3  jeansch123                1  1661787808            2          2   \n",
            "4    camper77               10  1664913823            1          7   \n",
            "\n",
            "   thumbs_down  stars  best_score  \\\n",
            "0            0      5         527   \n",
            "1            0      5         724   \n",
            "2            0      5         710   \n",
            "3            0      0         581   \n",
            "4            0      0         820   \n",
            "\n",
            "                                                text  \n",
            "0  I tweaked it a little, removed onions because ...  \n",
            "1  Bush used to have a white chili bean and it ma...  \n",
            "2  I have a very complicated white chicken chili ...  \n",
            "3  In your introduction, you mentioned cream chee...  \n",
            "4  Wonderful! I made this for a &#34;Chili/Stew&#...  \n",
            "\n",
            "Dataset Info:\n",
            "<class 'pandas.core.frame.DataFrame'>\n",
            "RangeIndex: 18182 entries, 0 to 18181\n",
            "Data columns (total 15 columns):\n",
            " #   Column           Non-Null Count  Dtype \n",
            "---  ------           --------------  ----- \n",
            " 0   Unnamed: 0       18182 non-null  int64 \n",
            " 1   recipe_number    18182 non-null  int64 \n",
            " 2   recipe_code      18182 non-null  int64 \n",
            " 3   recipe_name      18182 non-null  object\n",
            " 4   comment_id       18182 non-null  object\n",
            " 5   user_id          18182 non-null  object\n",
            " 6   user_name        18182 non-null  object\n",
            " 7   user_reputation  18182 non-null  int64 \n",
            " 8   created_at       18182 non-null  int64 \n",
            " 9   reply_count      18182 non-null  int64 \n",
            " 10  thumbs_up        18182 non-null  int64 \n",
            " 11  thumbs_down      18182 non-null  int64 \n",
            " 12  stars            18182 non-null  int64 \n",
            " 13  best_score       18182 non-null  int64 \n",
            " 14  text             18180 non-null  object\n",
            "dtypes: int64(10), object(5)\n",
            "memory usage: 2.1+ MB\n",
            "None\n"
          ]
        }
      ]
    },
    {
      "cell_type": "code",
      "source": [
        "data.fillna({\"reviews\": \"\", \"rating\": 0, \"prepared_count\": 0}, inplace=True)\n"
      ],
      "metadata": {
        "id": "aQsI7Jzy9yc8"
      },
      "execution_count": 25,
      "outputs": []
    },
    {
      "cell_type": "code",
      "source": [
        "most_appreciated = data.groupby('recipe_name')['stars'].mean().idxmax()\n",
        "print(f\"Q1: The most appreciated recipe is: {most_appreciated}\")\n"
      ],
      "metadata": {
        "colab": {
          "base_uri": "https://localhost:8080/"
        },
        "id": "bR6036s-_1XF",
        "outputId": "7bb5a669-f0a4-4856-dec4-a85319c5d983"
      },
      "execution_count": 27,
      "outputs": [
        {
          "output_type": "stream",
          "name": "stdout",
          "text": [
            "Q1: The most appreciated recipe is: Rustic Italian Tortellini Soup\n"
          ]
        }
      ]
    },
    {
      "cell_type": "code",
      "source": [
        "top_5_prepared = data.groupby('recipe_name')['created_at'].sum().nlargest(5)\n",
        "print(\"Q2: The top 5 recipes prepared the most are:\")\n",
        "print(top_5_prepared)\n"
      ],
      "metadata": {
        "colab": {
          "base_uri": "https://localhost:8080/"
        },
        "id": "A_AdQ95RAAZ2",
        "outputId": "36afda72-71d3-4c1e-db6b-19a6b8ea70a6"
      },
      "execution_count": 29,
      "outputs": [
        {
          "output_type": "stream",
          "name": "stdout",
          "text": [
            "Q2: The top 5 recipes prepared the most are:\n",
            "recipe_name\n",
            "Cheeseburger Soup         1177171986723\n",
            "Creamy White Chili        1061735207213\n",
            "Best Ever Banana Bread     826356252236\n",
            "Enchilada Casser-Ole!      683348599746\n",
            "Basic Homemade Bread       644767217540\n",
            "Name: created_at, dtype: int64\n"
          ]
        }
      ]
    },
    {
      "cell_type": "code",
      "source": [
        "data['thumbs_up'] = data['text'].astype(str).apply(lambda x: \"good\" in x.lower() or \"excellent\" in x.lower())\n",
        "most_delight = data[data['thumbs_up']].groupby('recipe_name').size().idxmax()\n",
        "print(f\"Q3: The recipe with the most user delight is: {most_delight}\")\n"
      ],
      "metadata": {
        "colab": {
          "base_uri": "https://localhost:8080/"
        },
        "id": "6xpEO-p-AUvU",
        "outputId": "315393d8-65b7-423a-92e2-b38b64d912ed"
      },
      "execution_count": 33,
      "outputs": [
        {
          "output_type": "stream",
          "name": "stdout",
          "text": [
            "Q3: The recipe with the most user delight is: Creamy White Chili\n"
          ]
        }
      ]
    },
    {
      "cell_type": "code",
      "source": [
        "data['thumbs_up'] = data['stars'] * data['created_at']\n",
        "highest_reputation = data.groupby('recipe_name')['user_reputation'].sum().idxmax()\n",
        "print(f\"Q4: The recipe with the highest reputation is: {highest_reputation}\")\n"
      ],
      "metadata": {
        "colab": {
          "base_uri": "https://localhost:8080/"
        },
        "id": "HlXSSMY6Bqlk",
        "outputId": "8139562c-b6d8-49e1-d09f-40889a06f019"
      },
      "execution_count": 36,
      "outputs": [
        {
          "output_type": "stream",
          "name": "stdout",
          "text": [
            "Q4: The recipe with the highest reputation is: Cheeseburger Soup\n"
          ]
        }
      ]
    },
    {
      "cell_type": "code",
      "source": [
        "top_100_ordered = data.sort_values('created_at', ascending=False).head(100)\n",
        "most_ordered = top_100_ordered['recipe_name'].value_counts().idxmax()\n",
        "print(f\"Q5: The most ordered recipe among the top 100 is: {most_ordered}\")\n"
      ],
      "metadata": {
        "colab": {
          "base_uri": "https://localhost:8080/"
        },
        "id": "PYsMmfgkCDlz",
        "outputId": "e3b9018b-dc64-431b-de8c-ce27afeffc7b"
      },
      "execution_count": 37,
      "outputs": [
        {
          "output_type": "stream",
          "name": "stdout",
          "text": [
            "Q5: The most ordered recipe among the top 100 is: Chicken Penne Casserole\n"
          ]
        }
      ]
    }
  ]
}