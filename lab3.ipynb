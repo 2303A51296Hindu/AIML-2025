{
  "nbformat": 4,
  "nbformat_minor": 0,
  "metadata": {
    "colab": {
      "provenance": [],
      "authorship_tag": "ABX9TyOVJoVbPqSKd4G2TcgTb51i",
      "include_colab_link": true
    },
    "kernelspec": {
      "name": "python3",
      "display_name": "Python 3"
    },
    "language_info": {
      "name": "python"
    }
  },
  "cells": [
    {
      "cell_type": "markdown",
      "metadata": {
        "id": "view-in-github",
        "colab_type": "text"
      },
      "source": [
        "<a href=\"https://colab.research.google.com/github/2303A51296Hindu/AIML-2025/blob/main/lab3.ipynb\" target=\"_parent\"><img src=\"https://colab.research.google.com/assets/colab-badge.svg\" alt=\"Open In Colab\"/></a>"
      ]
    },
    {
      "cell_type": "code",
      "execution_count": null,
      "metadata": {
        "id": "MdM2Qq1AM0F1"
      },
      "outputs": [],
      "source": [
        "from collections import namedtuple, Counter, defaultdict\n",
        "import random\n",
        "import math\n",
        "import functools\n",
        "\n",
        "cache= functools.lru_cache(10**6)"
      ]
    },
    {
      "cell_type": "code",
      "source": [
        "class Game:\n",
        "  def actions(self , state ):\n",
        "  ##Return a collection of the allowable moves from this state .\n",
        "      raise NotImplementedError\n",
        "  def result (self , state , move ):\n",
        "  ##Return the state that results from making a move from a state .\n",
        "      raise NotImplementedError\n",
        "  def is_terminal (self , state ):\n",
        "  ##Return True if this is a final state for the game.\n",
        "      return not self. actions (state)\n",
        "  def utility (self , state , player ):\n",
        "  ##Return the value of this final state to player.\n",
        "      raise NotImplementedError\n",
        "\n",
        "\n"
      ],
      "metadata": {
        "id": "YX2zFWN4PnoS"
      },
      "execution_count": null,
      "outputs": []
    },
    {
      "cell_type": "code",
      "source": [
        "def play_game(game , strategies : dict , verbose =False ):\n",
        "  ##Play a turn−taking game. ‘strategies ‘ is a {player name: function} dict ,\n",
        "  ##where function(state , game) is used to get the player ’s move.\n",
        "    state = game.initial\n",
        "    while not game. is_terminal (state ):\n",
        "        player = state. to_move\n",
        "        move = strategies [ player ](game , state)\n",
        "        state = game. result (state , move)\n",
        "        if verbose :\n",
        "            print('Player ', player , 'move:', move)\n",
        "            print(state)\n",
        "    return state"
      ],
      "metadata": {
        "id": "c9lMdNf1RUgs"
      },
      "execution_count": null,
      "outputs": []
    },
    {
      "cell_type": "code",
      "source": [
        "def minimax_search (game , state ):\n",
        "  ##Search game tree to determine best move; return (value, move) pair.\n",
        "  player = state. to_move\n",
        "  def max_value (state ):\n",
        "      if game. is_terminal (state ):\n",
        "          return game. utility (state , player ), None\n",
        "      v, move = -infinity , None\n",
        "      for a in game. actions (state ):\n",
        "          v2 , = min_value (game. result (state , a))\n",
        "          if v2 > v:\n",
        "              v, move = v2 , a\n",
        "      return v, move\n",
        "  def min_value (state ):\n",
        "      if game. is_terminal (state ):\n",
        "          return game. utility (state , player ), None\n",
        "      v, move = +infinity , None\n",
        "      for a in game. actions (state ):\n",
        "          v2 , = max_value (game. result (state , a))\n",
        "          if v2 < v:\n",
        "              v, move = v2 , a\n",
        "      return v, move\n",
        "  return max_value (state)\n",
        "  infinity = math.inf\n",
        "\n"
      ],
      "metadata": {
        "id": "-XkL3zEIS-kU"
      },
      "execution_count": null,
      "outputs": []
    },
    {
      "cell_type": "code",
      "source": [
        "def alphabeta_search (game , state ):\n",
        "  ##Search game to determine best action; use alpha−beta pruning.\n",
        "  ##Search all the way to the leaves .\n",
        "    player = state.to_move\n",
        "    def max_value (state , alpha , beta ):\n",
        "        if game. is_terminal (state ):\n",
        "            return game. utility (state , player ), None\n",
        "        v, move = -infinity, None\n",
        "        for a in game.actions(state):\n",
        "            v2 ,_ = min_value (game. result (state , a), alpha , beta)\n",
        "            if v2 > v:\n",
        "                v, move = v2 , a\n",
        "                alpha = max(alpha , v)\n",
        "                if v >= beta:\n",
        "                    return v, move\n",
        "                    return v, move\n",
        "    def min_value (state , alpha , beta ):\n",
        "       if game.is_terminal (state ):\n",
        "          return game.utility (state ,player), None\n",
        "       v, move = +infinity, None\n",
        "       for a in game. actions (state ):\n",
        "           v2 , = max_value(game. result (state , a), alpha , beta)\n",
        "           if v2 < v:\n",
        "               v, move = v2 , a\n",
        "               beta = min(beta , v)\n",
        "               if v <= alpha:\n",
        "                   return v, move\n",
        "       return v, move\n",
        "    return max_value (state , -infinity , + infinity )\n",
        "\n"
      ],
      "metadata": {
        "id": "TZTa_nFDWgfa"
      },
      "execution_count": null,
      "outputs": []
    },
    {
      "cell_type": "code",
      "source": [
        "class TicTacToe(Game):\n",
        "      ##\"\"\"Play TicTacToe on an `height` by `width` board, needing `k` in a row to win.\n",
        "         # 'X' plays first against 'O'.\"\"\"\n",
        "\n",
        "   def __init__(self, height=3, width=3, k=3):\n",
        "        self.k = k # k in a row\n",
        "        self.squares = {(x, y) for x in range(width) for y in range(height)}\n",
        "        self.initial = Board(height=height, width=width, to_move='X', utility=0)\n",
        "\n",
        "        def actions(self, board):\n",
        "        ##\"\"\"Legal moves are any square not yet taken.\"\"\"\n",
        "            return self.squares - set(board)\n",
        "\n",
        "        def result(self, board, square):\n",
        "        ##\"\"\"Place a marker for current player on square.\"\"\"\n",
        "            player = board.to_move\n",
        "            board = board.new({square: player}, to_move=('O' if player == 'X' else 'X'))\n",
        "            win = k_in_row(board, player, square, self.k)\n",
        "            board.utility = (0 if not win else +1 if player == 'X' else -1)\n",
        "            return board\n",
        "\n",
        "        def utility(self, board, player):\n",
        "        ##\"\"\"Return the value to player; 1 for win, -1 for loss, 0 otherwise.\"\"\"\n",
        "            return board.utility if player == 'X' else -board.utility\n",
        "\n",
        "        def is_terminal(self, board):\n",
        "        ##\"\"\"A board is a terminal state if it is won or there are no empty squares.\"\"\"\n",
        "            return board.utility != 0 or len(self.squares) == len(board)\n",
        "\n",
        "        def display(self, board): print(board)\n",
        "\n",
        "\n",
        "        def k_in_row(board, player, square, k):\n",
        "            ##\"\"\"True if player has k pieces in a line through square.\"\"\"\n",
        "                def in_row(x, y, dx, dy): return 0 if board[x, y] != player else 1 + in_row(x + dx, y + dy, dx, dy)\n",
        "                return any(in_row(*square, dx, dy) + in_row(*square, -dx, -dy)-1>=k\n",
        "                    for (dx, dy) in ((0, 1), (1, 0), (1, 1), (1, -1)))"
      ],
      "metadata": {
        "id": "_62N6DGOa7V0"
      },
      "execution_count": null,
      "outputs": []
    },
    {
      "cell_type": "code",
      "source": [
        "class Board ( defaultdict ):\n",
        "##\"\"\"A board has the player to move, a cached utility value,\n",
        "##and a dict of {(x, y): player} entries, where player is 'X' or 'O'.\"\"\"\n",
        "    empty = '.'\n",
        "    off = '#'\n",
        "\n",
        "    def __init__(self, width=8, height=8, to_move=None, **kwds):\n",
        "        self.__dict__.update(width=width, height=height, to_move=to_move, **kwds)\n",
        "\n",
        "    def new(self, changes: dict, **kwds) -> 'Board':\n",
        "    ##\"Given a dict of {(x, y): contents} changes, return a new Board with the changes.\"\n",
        "        board = Board(width=self.width, height=self.height, **kwds)\n",
        "        board.update(self)\n",
        "        board.update(changes)\n",
        "        return board\n",
        "\n",
        "    def __missing__(self, loc):\n",
        "        x, y = loc\n",
        "        if 0 <= x < self.width and 0 <= y < self.height:\n",
        "            return self.empty\n",
        "        else:\n",
        "            return self.off\n",
        "\n",
        "    def __hash__(self):\n",
        "        return hash(tuple(sorted(self.items()))) + hash(self.to_move)\n",
        "\n",
        "    def __repr__(self):\n",
        "        def row(y): return ' '.join(self[x, y] for x in range(self.width))\n",
        "        return '\\n'.join(map(row, range(self.height))) +  '\\n'"
      ],
      "metadata": {
        "id": "ecbZnvbbeE9B",
        "colab": {
          "base_uri": "https://localhost:8080/",
          "height": 211
        },
        "outputId": "42bc7d11-de0a-48fe-b701-1ea4d78c4fc5"
      },
      "execution_count": null,
      "outputs": [
        {
          "output_type": "error",
          "ename": "NameError",
          "evalue": "name 'defaultdict' is not defined",
          "traceback": [
            "\u001b[0;31m---------------------------------------------------------------------------\u001b[0m",
            "\u001b[0;31mNameError\u001b[0m                                 Traceback (most recent call last)",
            "\u001b[0;32m<ipython-input-19-148c32971747>\u001b[0m in \u001b[0;36m<cell line: 1>\u001b[0;34m()\u001b[0m\n\u001b[0;32m----> 1\u001b[0;31m \u001b[0;32mclass\u001b[0m \u001b[0mBoard\u001b[0m \u001b[0;34m(\u001b[0m \u001b[0mdefaultdict\u001b[0m \u001b[0;34m)\u001b[0m\u001b[0;34m:\u001b[0m\u001b[0;34m\u001b[0m\u001b[0;34m\u001b[0m\u001b[0m\n\u001b[0m\u001b[1;32m      2\u001b[0m       \u001b[0;31m##\"\"\"A board has the player to move, a cached utility value,\u001b[0m\u001b[0;34m\u001b[0m\u001b[0;34m\u001b[0m\u001b[0m\n\u001b[1;32m      3\u001b[0m           \u001b[0;31m##and a dict of {(x, y): player} entries, where player is 'X' or 'O'.\"\"\"\u001b[0m\u001b[0;34m\u001b[0m\u001b[0;34m\u001b[0m\u001b[0m\n\u001b[1;32m      4\u001b[0m     \u001b[0mempty\u001b[0m \u001b[0;34m=\u001b[0m \u001b[0;34m'.'\u001b[0m\u001b[0;34m\u001b[0m\u001b[0;34m\u001b[0m\u001b[0m\n\u001b[1;32m      5\u001b[0m     \u001b[0moff\u001b[0m \u001b[0;34m=\u001b[0m \u001b[0;34m'#'\u001b[0m\u001b[0;34m\u001b[0m\u001b[0;34m\u001b[0m\u001b[0m\n",
            "\u001b[0;31mNameError\u001b[0m: name 'defaultdict' is not defined"
          ]
        }
      ]
    },
    {
      "cell_type": "code",
      "source": [
        "\n",
        "def random_player (game , state ): return random . choice (list(game. actions ( state )))\n",
        "def player ( search_algorithm ):\n",
        "##A game player who uses the specified search algorithm\n",
        "    return lambda game , state: search_algorithm (game , state )[1]"
      ],
      "metadata": {
        "id": "HZ2mydR2gJ-x"
      },
      "execution_count": null,
      "outputs": []
    },
    {
      "cell_type": "code",
      "source": [
        "\n",
        "  play_game(TicTacToe(), dict(X=random_player, O=player(alphabeta_search)), verbose=True).utility\n"
      ],
      "metadata": {
        "colab": {
          "base_uri": "https://localhost:8080/",
          "height": 263
        },
        "id": "GY7gnEDihDB7",
        "outputId": "d2c4d192-e81b-44da-9f2e-29cdc1fa47e6"
      },
      "execution_count": null,
      "outputs": [
        {
          "output_type": "error",
          "ename": "NameError",
          "evalue": "name 'Board' is not defined",
          "traceback": [
            "\u001b[0;31m---------------------------------------------------------------------------\u001b[0m",
            "\u001b[0;31mNameError\u001b[0m                                 Traceback (most recent call last)",
            "\u001b[0;32m<ipython-input-16-4c992a02cc18>\u001b[0m in \u001b[0;36m<cell line: 1>\u001b[0;34m()\u001b[0m\n\u001b[0;32m----> 1\u001b[0;31m \u001b[0mplay_game\u001b[0m\u001b[0;34m(\u001b[0m\u001b[0mTicTacToe\u001b[0m\u001b[0;34m(\u001b[0m\u001b[0;34m)\u001b[0m\u001b[0;34m,\u001b[0m \u001b[0mdict\u001b[0m\u001b[0;34m(\u001b[0m\u001b[0mX\u001b[0m\u001b[0;34m=\u001b[0m\u001b[0mrandom_player\u001b[0m\u001b[0;34m,\u001b[0m \u001b[0mO\u001b[0m\u001b[0;34m=\u001b[0m\u001b[0mplayer\u001b[0m\u001b[0;34m(\u001b[0m\u001b[0malphabeta_search\u001b[0m\u001b[0;34m)\u001b[0m\u001b[0;34m)\u001b[0m\u001b[0;34m,\u001b[0m \u001b[0mverbose\u001b[0m\u001b[0;34m=\u001b[0m\u001b[0;32mTrue\u001b[0m\u001b[0;34m)\u001b[0m\u001b[0;34m.\u001b[0m\u001b[0mutility\u001b[0m\u001b[0;34m\u001b[0m\u001b[0;34m\u001b[0m\u001b[0m\n\u001b[0m",
            "\u001b[0;32m<ipython-input-10-310438299d9b>\u001b[0m in \u001b[0;36m__init__\u001b[0;34m(self, height, width, k)\u001b[0m\n\u001b[1;32m      6\u001b[0m         \u001b[0mself\u001b[0m\u001b[0;34m.\u001b[0m\u001b[0mk\u001b[0m \u001b[0;34m=\u001b[0m \u001b[0mk\u001b[0m \u001b[0;31m# k in a row\u001b[0m\u001b[0;34m\u001b[0m\u001b[0;34m\u001b[0m\u001b[0m\n\u001b[1;32m      7\u001b[0m         \u001b[0mself\u001b[0m\u001b[0;34m.\u001b[0m\u001b[0msquares\u001b[0m \u001b[0;34m=\u001b[0m \u001b[0;34m{\u001b[0m\u001b[0;34m(\u001b[0m\u001b[0mx\u001b[0m\u001b[0;34m,\u001b[0m \u001b[0my\u001b[0m\u001b[0;34m)\u001b[0m \u001b[0;32mfor\u001b[0m \u001b[0mx\u001b[0m \u001b[0;32min\u001b[0m \u001b[0mrange\u001b[0m\u001b[0;34m(\u001b[0m\u001b[0mwidth\u001b[0m\u001b[0;34m)\u001b[0m \u001b[0;32mfor\u001b[0m \u001b[0my\u001b[0m \u001b[0;32min\u001b[0m \u001b[0mrange\u001b[0m\u001b[0;34m(\u001b[0m\u001b[0mheight\u001b[0m\u001b[0;34m)\u001b[0m\u001b[0;34m}\u001b[0m\u001b[0;34m\u001b[0m\u001b[0;34m\u001b[0m\u001b[0m\n\u001b[0;32m----> 8\u001b[0;31m         \u001b[0mself\u001b[0m\u001b[0;34m.\u001b[0m\u001b[0minitial\u001b[0m \u001b[0;34m=\u001b[0m \u001b[0mBoard\u001b[0m\u001b[0;34m(\u001b[0m\u001b[0mheight\u001b[0m\u001b[0;34m=\u001b[0m\u001b[0mheight\u001b[0m\u001b[0;34m,\u001b[0m \u001b[0mwidth\u001b[0m\u001b[0;34m=\u001b[0m\u001b[0mwidth\u001b[0m\u001b[0;34m,\u001b[0m \u001b[0mto_move\u001b[0m\u001b[0;34m=\u001b[0m\u001b[0;34m'X'\u001b[0m\u001b[0;34m,\u001b[0m \u001b[0mutility\u001b[0m\u001b[0;34m=\u001b[0m\u001b[0;36m0\u001b[0m\u001b[0;34m)\u001b[0m\u001b[0;34m\u001b[0m\u001b[0;34m\u001b[0m\u001b[0m\n\u001b[0m\u001b[1;32m      9\u001b[0m \u001b[0;34m\u001b[0m\u001b[0m\n\u001b[1;32m     10\u001b[0m         \u001b[0;32mdef\u001b[0m \u001b[0mactions\u001b[0m\u001b[0;34m(\u001b[0m\u001b[0mself\u001b[0m\u001b[0;34m,\u001b[0m \u001b[0mboard\u001b[0m\u001b[0;34m)\u001b[0m\u001b[0;34m:\u001b[0m\u001b[0;34m\u001b[0m\u001b[0;34m\u001b[0m\u001b[0m\n",
            "\u001b[0;31mNameError\u001b[0m: name 'Board' is not defined"
          ]
        }
      ]
    }
  ]
}